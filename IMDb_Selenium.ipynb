{
 "cells": [
  {
   "cell_type": "code",
   "execution_count": 46,
   "id": "db11e5a1-aaaf-40ee-94cd-47772845fffa",
   "metadata": {},
   "outputs": [],
   "source": [
    "def scroll_down():\n",
    "    last_height = driver.execute_script(\"return document.body.scrollHeight\")\n",
    "    \n",
    "    while True:\n",
    "        driver.execute_script(\"window.scrollTo(0, document.body.scrollHeight);\")  # Scroll to bottom\n",
    "        time.sleep(2)  # Wait for new content to load\n",
    "        \n",
    "        new_height = driver.execute_script(\"return document.body.scrollHeight\")\n",
    "        if new_height == last_height:  # If height hasn't changed, stop scrolling\n",
    "            break\n",
    "        last_height = new_height"
   ]
  },
  {
   "cell_type": "code",
   "execution_count": 1,
   "id": "529f1cde-7e30-44fe-b28a-9fb242148202",
   "metadata": {},
   "outputs": [
    {
     "name": "stdout",
     "output_type": "stream",
     "text": [
      "Extracted Movie Names: ['1. Adolescence', '2. The White Lotus', '3. Severance', '4. The Electric State', '5. Invincible', '6. Snow White', '7. Daredevil: Born Again', '8. Reacher', '9. The Wheel of Time', '10. Anora', 'Baida', 'Rekhachithram', 'Adolescence', 'Dragon', 'The Diplomat', 'Chhaava', 'Officer on Duty', 'Solo Leveling', 'Artiste', 'Am Ah', 'Crazxy', 'Anora', 'Sky Force', 'Ponman', 'Daredevil: Born Again', 'Dupahiya', 'Gandhi Tatha Chettu', 'Interstellar', 'Attack on Titan', 'Mandya', 'Severance', 'Breaking Bad', 'Power of Paanch', 'Dragon Ball Daima', 'Niram Marum Ulagil', 'Solo Leveling: ReAwakening', 'Kaushaljis vs Kaushal', 'Halka', 'Invincible', 'Dabba Cartel']\n"
     ]
    }
   ],
   "source": [
    "from selenium import webdriver\n",
    "from selenium.webdriver.chrome.service import Service\n",
    "from webdriver_manager.chrome import ChromeDriverManager\n",
    "from selenium.webdriver.common.by import By\n",
    "from selenium.webdriver.support.ui import WebDriverWait\n",
    "from selenium.webdriver.support import expected_conditions as EC\n",
    "import pandas as pd\n",
    "import time\n",
    "\n",
    "# Setup WebDriver\n",
    "service = Service(ChromeDriverManager().install())\n",
    "driver = webdriver.Chrome(service=service)\n",
    "\n",
    "# Open the target website\n",
    "driver.get(\"https://www.imdb.com/\")\n",
    "driver.maximize_window()\n",
    "\n",
    "\n",
    "try:\n",
    "    driver.execute_script(\"window.scrollBy(0, 600);\") \n",
    "    time.sleep(3)\n",
    "    driver.execute_script(\"window.scrollBy(0, 600);\") \n",
    "    time.sleep(3)\n",
    "    driver.execute_script(\"window.scrollBy(0, 600);\") \n",
    "    time.sleep(3)\n",
    "    driver.execute_script(\"window.scrollBy(0, 600);\") \n",
    "    # Wait until movie elements load\n",
    "    WebDriverWait(driver, 10).until(\n",
    "        EC.presence_of_all_elements_located((By.XPATH, \"//a[@class='ipc-poster-card__title ipc-poster-card__title--clamp-2 ipc-poster-card__title--clickable']/span\"))\n",
    "    )\n",
    "\n",
    "    # Extract all movie names\n",
    "    movie_elements = driver.find_elements(By.XPATH, \"//a[@class='ipc-poster-card__title ipc-poster-card__title--clamp-2 ipc-poster-card__title--clickable']/span\")\n",
    "    movies = [movie.text for movie in movie_elements if movie.text.strip()]\n",
    "\n",
    "    # Debugging: Print page source if empty\n",
    "    if not movies:\n",
    "        print(\"No movies found. Check the page source:\\n\")\n",
    "        print(driver.page_source[:1000])  # Print first 1000 characters of page source\n",
    "\n",
    "except Exception as e:\n",
    "    print(\"Error:\", e)\n",
    "    movies = []\n",
    "\n",
    "# Close the browser\n",
    "driver.quit()\n",
    "\n",
    "# Print extracted movie names\n",
    "print(\"Extracted Movie Names:\", movies)"
   ]
  },
  {
   "cell_type": "code",
   "execution_count": 8,
   "id": "24e6325f-16ca-40ec-bdcf-5ed681a73414",
   "metadata": {},
   "outputs": [
    {
     "name": "stdout",
     "output_type": "stream",
     "text": [
      "IMDb Review Page: ['https://www.imdb.com/title/tt31806037/reviews', 'https://www.imdb.com/title/tt13406094/reviews', 'https://www.imdb.com/title/tt11280740/reviews', 'https://www.imdb.com/title/tt7766378/reviews', 'https://www.imdb.com/title/tt6741278/reviews', 'https://www.imdb.com/title/tt6208148/reviews', 'https://www.imdb.com/title/tt18923754/reviews', 'https://www.imdb.com/title/tt9288030/reviews', 'https://www.imdb.com/title/tt7462410/reviews', 'https://www.imdb.com/title/tt28607951/reviews', 'https://www.imdb.com/title/tt35217961/reviews', 'https://www.imdb.com/title/tt32284154/reviews', 'https://www.imdb.com/title/tt31806037/reviews', 'https://www.imdb.com/title/tt32080876/reviews', 'https://www.imdb.com/title/tt26229612/reviews', 'https://www.imdb.com/title/tt27922706/reviews', 'https://www.imdb.com/title/tt34388152/reviews', 'https://www.imdb.com/title/tt21209876/reviews', 'https://www.imdb.com/title/tt36106718/reviews', 'https://www.imdb.com/title/tt34852931/reviews', 'https://www.imdb.com/title/tt30798612/reviews', 'https://www.imdb.com/title/tt28607951/reviews', 'https://www.imdb.com/title/tt27056066/reviews', 'https://www.imdb.com/title/tt30089457/reviews', 'https://www.imdb.com/title/tt18923754/reviews', 'https://www.imdb.com/title/tt31925820/reviews', 'https://www.imdb.com/title/tt34057707/reviews', 'https://www.imdb.com/title/tt0816692/reviews', 'https://www.imdb.com/title/tt2560140/reviews', 'https://www.imdb.com/title/tt27530836/reviews', 'https://www.imdb.com/title/tt11280740/reviews', 'https://www.imdb.com/title/tt0903747/reviews', 'https://www.imdb.com/title/tt35471598/reviews', 'https://www.imdb.com/title/tt29485149/reviews', 'https://www.imdb.com/title/tt32189846/reviews', 'https://www.imdb.com/title/tt33428606/reviews', 'https://www.imdb.com/title/tt26655658/reviews', 'https://www.imdb.com/title/tt9471962/reviews', 'https://www.imdb.com/title/tt6741278/reviews', 'https://www.imdb.com/title/tt15340954/reviews']\n"
     ]
    }
   ],
   "source": [
    "from imdb import IMDb\n",
    "\n",
    "def get_imdb_review_link(movie_name):\n",
    "    ia = IMDb()\n",
    "    movies = ia.search_movie(movie_name)\n",
    "\n",
    "    if movies:\n",
    "        movie_id = movies[0].movieID\n",
    "        review_url = f\"https://www.imdb.com/title/tt{movie_id}/reviews\"\n",
    "        return review_url\n",
    "    else:\n",
    "        return \"Movie not found on IMDb.\"\n",
    "review_link = []\n",
    "for movie_name in movies:\n",
    "    review_link.append(get_imdb_review_link(movie_name))\n",
    "print(\"IMDb Review Page:\", review_link)"
   ]
  },
  {
   "cell_type": "code",
   "execution_count": 10,
   "id": "f89a25a4-f070-4782-a55a-2123058869d0",
   "metadata": {},
   "outputs": [
    {
     "name": "stdout",
     "output_type": "stream",
     "text": [
      "CSV file 'imdb_review_links.csv' has been saved successfully!\n"
     ]
    }
   ],
   "source": [
    "import csv\n",
    "\n",
    "csv_filename = \"imdb_review_links.csv\"\n",
    "\n",
    "# Save to CSV file\n",
    "with open(csv_filename, mode=\"w\", newline=\"\", encoding=\"utf-8\") as file:\n",
    "    writer = csv.writer(file)\n",
    "    writer.writerow([\"Review Links\"])  # Header\n",
    "    for link in review_link:\n",
    "        writer.writerow([link])  # Write each link as a row\n",
    "\n",
    "print(f\"CSV file '{csv_filename}' has been saved successfully!\")\n"
   ]
  },
  {
   "cell_type": "code",
   "execution_count": 57,
   "id": "c6da8d45-a5d2-4685-b4bb-11447354c788",
   "metadata": {},
   "outputs": [],
   "source": [
    "csv_filename = \"imdb_review_links.csv\"\n",
    "review_links = []\n",
    "\n",
    "with open(csv_filename, mode=\"r\", encoding=\"utf-8\") as file:\n",
    "    reader = csv.reader(file)\n",
    "    next(reader)  # Skip header\n",
    "    for row in reader:\n",
    "        review_links.append(row[0])"
   ]
  },
  {
   "cell_type": "code",
   "execution_count": 59,
   "id": "d7d0e99b-d141-43bc-acf7-e9d902526195",
   "metadata": {},
   "outputs": [],
   "source": [
    "def scroll_until_button_visible(xpath):\n",
    "    while True:\n",
    "        try:\n",
    "            # Check if the button is visible\n",
    "            button = WebDriverWait(driver, 2).until(\n",
    "                EC.visibility_of_element_located((By.XPATH, xpath))\n",
    "            )\n",
    "            print(\"Button is now visible, stopping scroll.\")\n",
    "            break  # Stop scrolling once button is found\n",
    "        except:\n",
    "            # If button is not found, scroll down\n",
    "            driver.execute_script(\"window.scrollTo(0, document.body.scrollHeight);\")\n",
    "            time.sleep(5)"
   ]
  },
  {
   "cell_type": "code",
   "execution_count": 61,
   "id": "cda8bbc1-b1d9-4cff-931a-54d515ab2f59",
   "metadata": {},
   "outputs": [],
   "source": [
    "def extract_reviews_and_ratings():\n",
    "    articles = driver.find_elements(By.XPATH, \"//section[1]/article\")  # Get all review articles\n",
    "    reviews_data = []\n",
    "\n",
    "    for article in articles:\n",
    "        try:\n",
    "            # Extract review title\n",
    "            h3_element = article.find_element(By.XPATH, \".//div[1]/div[1]/div[2]/div/a/h3\")\n",
    "            review_title = h3_element.text.strip()\n",
    "        except:\n",
    "            review_title = \"No Title\"\n",
    "\n",
    "        try:\n",
    "            # Extract rating (if exists)\n",
    "            rating_element = article.find_element(By.XPATH, \".//div[1]/div[1]/div[1]/span/span[1]\")\n",
    "            rating = rating_element.text.strip()\n",
    "        except:\n",
    "            rating = \"No Rating\"\n",
    "\n",
    "        # Append extracted data\n",
    "        reviews_data.append({\"Review Title\": review_title, \"Rating\": rating})\n",
    "\n",
    "    return reviews_data"
   ]
  },
  {
   "cell_type": "code",
   "execution_count": 75,
   "id": "6d133e98-690e-4ee0-9460-0150d8f5ddd4",
   "metadata": {},
   "outputs": [
    {
     "name": "stdin",
     "output_type": "stream",
     "text": [
      "Click enter for confirmation \n",
      "Click enter for confirmation \n",
      "Click enter for confirmation \n",
      "Click enter for confirmation \n",
      "Click enter for confirmation \n",
      "Click enter for confirmation \n",
      "Click enter for confirmation \n",
      "Click enter for confirmation \n",
      "Click enter for confirmation \n",
      "Click enter for confirmation \n",
      "Click enter for confirmation \n",
      "Click enter for confirmation \n",
      "Click enter for confirmation \n",
      "Click enter for confirmation \n",
      "Click enter for confirmation \n",
      "Click enter for confirmation \n",
      "Click enter for confirmation \n",
      "Click enter for confirmation \n",
      "Click enter for confirmation \n",
      "Click enter for confirmation \n",
      "Click enter for confirmation \n",
      "Click enter for confirmation \n",
      "Click enter for confirmation \n",
      "Click enter for confirmation \n",
      "Click enter for confirmation \n",
      "Click enter for confirmation \n",
      "Click enter for confirmation \n",
      "Click enter for confirmation \n",
      "Click enter for confirmation \n",
      "Click enter for confirmation \n",
      "Click enter for confirmation \n"
     ]
    },
    {
     "name": "stdout",
     "output_type": "stream",
     "text": [
      "                                        Review Title     Rating\n",
      "0     I liked it for the same reason people hated it          8\n",
      "1                          A Film Made By Its Ending          9\n",
      "2                                           No Title  No Rating\n",
      "3                      Pretty Woman meets Uncut Gems          9\n",
      "4                            A review from a Russian          8\n",
      "...                                              ...        ...\n",
      "4802         Terrible storyline, factually incorrect          1\n",
      "4803                        Bad Bad Bad. Don't watch          1\n",
      "4804         Dabba Cartel - A Thrilling Binge-Watch!          4\n",
      "4805                             Not what I expected          4\n",
      "4806                                         Concept         10\n",
      "\n",
      "[4807 rows x 2 columns]\n"
     ]
    }
   ],
   "source": [
    "from selenium import webdriver\n",
    "from selenium.webdriver.common.by import By\n",
    "from selenium.webdriver.chrome.service import Service\n",
    "from webdriver_manager.chrome import ChromeDriverManager\n",
    "import time\n",
    "import pandas as pd\n",
    "\n",
    "# Setup WebDriver\n",
    "service = Service(ChromeDriverManager().install())\n",
    "driver = webdriver.Chrome(service=service)\n",
    "\n",
    "# List to store all review data\n",
    "all_reviews = []\n",
    "\n",
    "for link in review_links:\n",
    "    driver.get(link)\n",
    "    driver.maximize_window()\n",
    "\n",
    "    # button_xpath = \"/html/body/div[2]/main/div/section/div/section/div/div[1]/section[1]/div[3]/div/span[2]/button\"\n",
    "    # scroll_until_button_visible(button_xpath)\n",
    "    time.sleep(5)\n",
    "    input(\"Click enter for confirmation\")\n",
    "    time.sleep(3)\n",
    "    scroll_down()\n",
    "\n",
    "    # Extract reviews and append to list\n",
    "    reviews = extract_reviews_and_ratings()\n",
    "    all_reviews.extend(reviews)  # Append extracted reviews to the list\n",
    "\n",
    "# Convert list to DataFrame\n",
    "df = pd.DataFrame(all_reviews, columns=[\"Review Title\", \"Rating\"])\n",
    "\n",
    "# Save to CSV\n",
    "df.to_csv(\"imdb_reviews.csv\", index=False)\n",
    "print(df)\n",
    "\n",
    "# Close WebDriver\n",
    "driver.quit()\n"
   ]
  },
  {
   "cell_type": "code",
   "execution_count": 79,
   "id": "ae02c7f0-4be0-4af2-8706-e15a8c53f552",
   "metadata": {},
   "outputs": [],
   "source": [
    "import pandas as pd\n",
    "\n",
    "df1 = pd.read_csv(\"imdb_reviews1.csv\")\n",
    "df2 = pd.read_csv(\"imdb_reviews.csv\")\n",
    "\n",
    "merged_df = pd.concat([df1, df2], ignore_index=True)  # Merge and reset index\n",
    "merged_df.to_csv(\"imdb_final.csv\", index=False)  # Save the merged file"
   ]
  },
  {
   "cell_type": "code",
   "execution_count": 101,
   "id": "daae607a-83d8-4e1e-83eb-62964fa4d314",
   "metadata": {},
   "outputs": [],
   "source": [
    "df = pd.read_csv(\"imdb_final.csv\")"
   ]
  },
  {
   "cell_type": "code",
   "execution_count": 103,
   "id": "1b0ae296-1755-4bac-bc90-e1fc7e67cd33",
   "metadata": {},
   "outputs": [
    {
     "data": {
      "text/plain": [
       "(11019, 2)"
      ]
     },
     "execution_count": 103,
     "metadata": {},
     "output_type": "execute_result"
    }
   ],
   "source": [
    "df.shape"
   ]
  },
  {
   "cell_type": "code",
   "execution_count": 105,
   "id": "05e95cd9-9fca-4924-b6bd-70f84f4f2619",
   "metadata": {},
   "outputs": [
    {
     "name": "stderr",
     "output_type": "stream",
     "text": [
      "C:\\Users\\Sathiaseelan\\AppData\\Local\\Temp\\ipykernel_10840\\3347044434.py:1: FutureWarning: A value is trying to be set on a copy of a DataFrame or Series through chained assignment using an inplace method.\n",
      "The behavior will change in pandas 3.0. This inplace method will never work because the intermediate object on which we are setting values always behaves as a copy.\n",
      "\n",
      "For example, when doing 'df[col].method(value, inplace=True)', try using 'df.method({col: value}, inplace=True)' or df[col] = df[col].method(value) instead, to perform the operation inplace on the original object.\n",
      "\n",
      "\n",
      "  df['Rating'].replace('No Rating', pd.NA, inplace=True)\n"
     ]
    }
   ],
   "source": [
    "df['Rating'].replace('No Rating', pd.NA, inplace=True)\n",
    "df.dropna(subset=['Rating'], inplace=True)"
   ]
  },
  {
   "cell_type": "code",
   "execution_count": 111,
   "id": "6584a622-0c57-4f34-b504-43fc947fbd60",
   "metadata": {},
   "outputs": [],
   "source": [
    "df['Rating'] = df['Rating'].astype(int)\n",
    "df['Sentiment'] = df['Rating'].apply(lambda x: 'Positive' if x >= 7 else \n",
    "                                     'Neutral' if 4 <= x <= 6 else \n",
    "                                     'Negative')"
   ]
  },
  {
   "cell_type": "code",
   "execution_count": 117,
   "id": "55b349c5-80b3-4288-bdfc-a3d7cf95a986",
   "metadata": {},
   "outputs": [
    {
     "data": {
      "text/plain": [
       "Sentiment\n",
       "Positive    7756\n",
       "Neutral     1617\n",
       "Negative    1353\n",
       "Name: count, dtype: int64"
      ]
     },
     "execution_count": 117,
     "metadata": {},
     "output_type": "execute_result"
    }
   ],
   "source": [
    "df['Sentiment'].value_counts()"
   ]
  },
  {
   "cell_type": "code",
   "execution_count": 119,
   "id": "ed6de159-c78d-4801-864c-5d368ed1f602",
   "metadata": {},
   "outputs": [],
   "source": [
    "df.to_csv(\"imdb_reviews_with_classes.csv\", index=False)"
   ]
  }
 ],
 "metadata": {
  "kernelspec": {
   "display_name": "Python 3 (ipykernel)",
   "language": "python",
   "name": "python3"
  },
  "language_info": {
   "codemirror_mode": {
    "name": "ipython",
    "version": 3
   },
   "file_extension": ".py",
   "mimetype": "text/x-python",
   "name": "python",
   "nbconvert_exporter": "python",
   "pygments_lexer": "ipython3",
   "version": "3.12.7"
  }
 },
 "nbformat": 4,
 "nbformat_minor": 5
}
